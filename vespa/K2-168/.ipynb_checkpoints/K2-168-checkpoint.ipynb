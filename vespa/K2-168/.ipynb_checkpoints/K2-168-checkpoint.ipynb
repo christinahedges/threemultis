{
 "cells": [
  {
   "cell_type": "code",
   "execution_count": 1,
   "metadata": {},
   "outputs": [],
   "source": [
    "import lightkurve as lk\n",
    "\n",
    "lcf = lk.search_lightcurvefile('K2-168').download()"
   ]
  },
  {
   "cell_type": "code",
   "execution_count": 2,
   "metadata": {},
   "outputs": [
    {
     "data": {
      "text/plain": [
       "12.105"
      ]
     },
     "execution_count": 2,
     "metadata": {},
     "output_type": "execute_result"
    }
   ],
   "source": [
    "lcf.hdu[0].header['KEPMAG']"
   ]
  },
  {
   "cell_type": "code",
   "execution_count": 3,
   "metadata": {},
   "outputs": [
    {
     "data": {
      "text/plain": [
       "(333.10989, -16.341755)"
      ]
     },
     "execution_count": 3,
     "metadata": {},
     "output_type": "execute_result"
    }
   ],
   "source": [
    "lcf.ra, lcf.dec"
   ]
  },
  {
   "cell_type": "code",
   "execution_count": 4,
   "metadata": {},
   "outputs": [
    {
     "name": "stderr",
     "output_type": "stream",
     "text": [
      "/Users/ch/miniconda3/lib/python3.6/site-packages/h5py/__init__.py:36: FutureWarning: Conversion of the second argument of issubdtype from `float` to `np.floating` is deprecated. In future, it will be treated as `np.float64 == np.dtype(float).type`.\n",
      "  from ._conv import register_converters as _register_converters\n"
     ]
    }
   ],
   "source": [
    "import threemultis"
   ]
  },
  {
   "cell_type": "code",
   "execution_count": 6,
   "metadata": {},
   "outputs": [],
   "source": [
    "import pickle\n",
    "samples = pickle.load(open('../../threemultis/results/K2-168_samples.p', 'rb'))\n",
    "\n",
    "lc= pickle.load(open('../../threemultis/results/K2-168.p', 'rb'))"
   ]
  },
  {
   "cell_type": "code",
   "execution_count": null,
   "metadata": {},
   "outputs": [],
   "source": [
    "import pandas as pd\n",
    "import numpy as np\n",
    "params = threemultis.utils.get_params('K2-168')\n",
    "letters= ['b', 'c', 'd']\n",
    "for planet, df in params.iterrows():\n",
    "    otherplanets = list(set(list(np.arange(len(params)))) - set([planet]))\n",
    "    mask = np.ones(len(lc.time), bool)\n",
    "    for op in otherplanets:\n",
    "        p1 = params.loc[op, 'Period']\n",
    "        t01 = params.loc[op, 'T0']\n",
    "        d1 = params.loc[op, 'Duration']\n",
    "        x_fold = (lc.time - t01 + 0.5*p1) % p1 - 0.5*p1\n",
    "        mask &= (np.abs(x_fold) > d1/2)\n",
    "\n",
    "    p = df['Period']\n",
    "    t0 = df['T0']\n",
    "    d = df['Duration']\n",
    "    x_fold = (lc.time - t0 + 0.5*p) % p - 0.5*p\n",
    "    f = lc[mask].fold(p, t0).bin(1)\n",
    "    k = np.abs(f.phase) < 0.05\n",
    "    f = f[k]\n",
    "\n",
    "    f.errorbar(label='Planet {} (Period: {:2.4f}d)'.format(planet + 1, p))\n",
    "    \n",
    "    r = pd.DataFrame(columns=['phase', 'flux', 'flux_err'])\n",
    "    r['phase'] = f.phase * p\n",
    "    r['flux'] = f.flux\n",
    "    r['flux_err'] = f.flux_err\n",
    "    r.to_csv('{0}/K2-168{0}.csv'.format(letters[planet]), index=None, header=None)"
   ]
  },
  {
   "cell_type": "code",
   "execution_count": 12,
   "metadata": {},
   "outputs": [
    {
     "data": {
      "text/plain": [
       "8.050759832905571"
      ]
     },
     "execution_count": 12,
     "metadata": {},
     "output_type": "execute_result"
    }
   ],
   "source": [
    "np.exp(samples.logP__1.median())"
   ]
  },
  {
   "cell_type": "code",
   "execution_count": 13,
   "metadata": {},
   "outputs": [
    {
     "data": {
      "text/plain": [
       "0.012583269491395935"
      ]
     },
     "execution_count": 13,
     "metadata": {},
     "output_type": "execute_result"
    }
   ],
   "source": [
    "samples.r_pl__1.median()"
   ]
  },
  {
   "cell_type": "code",
   "execution_count": null,
   "metadata": {},
   "outputs": [],
   "source": []
  },
  {
   "cell_type": "code",
   "execution_count": null,
   "metadata": {},
   "outputs": [],
   "source": []
  }
 ],
 "metadata": {
  "kernelspec": {
   "display_name": "Python 3",
   "language": "python",
   "name": "python3"
  },
  "language_info": {
   "codemirror_mode": {
    "name": "ipython",
    "version": 3
   },
   "file_extension": ".py",
   "mimetype": "text/x-python",
   "name": "python",
   "nbconvert_exporter": "python",
   "pygments_lexer": "ipython3",
   "version": "3.6.7"
  }
 },
 "nbformat": 4,
 "nbformat_minor": 2
}
