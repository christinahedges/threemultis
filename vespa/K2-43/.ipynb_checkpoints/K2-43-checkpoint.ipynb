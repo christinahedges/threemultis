{
 "cells": [
  {
   "cell_type": "code",
   "execution_count": 9,
   "metadata": {},
   "outputs": [],
   "source": [
    "import astropy.units as u\n",
    "from astropy.constants import G\n",
    "import numpy as np\n",
    "teff = 3889.717773, 120.745346\n",
    "rstar = 0.587449, 0.038851\n",
    "mstar = 0.598864, 0.059886\n",
    "feh = 0, 0.1\n",
    "logg = np.log10((G * (mstar[0] * u.solMass)/(rstar[0] * u.solRad)**2).to(u.cm/u.s**2).value)"
   ]
  },
  {
   "cell_type": "code",
   "execution_count": 10,
   "metadata": {},
   "outputs": [],
   "source": [
    "logg_e = np.log10((G * ((mstar[0] + mstar[1]) * u.solMass)/((rstar[0] + rstar[1])* u.solRad)**2).to(u.cm/u.s**2).value) - logg"
   ]
  },
  {
   "cell_type": "code",
   "execution_count": 11,
   "metadata": {},
   "outputs": [
    {
     "data": {
      "text/plain": [
       "-0.014232064252201582"
      ]
     },
     "execution_count": 11,
     "metadata": {},
     "output_type": "execute_result"
    }
   ],
   "source": [
    "logg_e"
   ]
  },
  {
   "cell_type": "code",
   "execution_count": 12,
   "metadata": {},
   "outputs": [],
   "source": [
    "import lightkurve as lk\n",
    "\n",
    "lcf = lk.search_lightcurvefile('K2-43').download()"
   ]
  },
  {
   "cell_type": "code",
   "execution_count": 13,
   "metadata": {},
   "outputs": [
    {
     "data": {
      "text/plain": [
       "14.887"
      ]
     },
     "execution_count": 13,
     "metadata": {},
     "output_type": "execute_result"
    }
   ],
   "source": [
    "lcf.hdu[0].header['KEPMAG']"
   ]
  },
  {
   "cell_type": "code",
   "execution_count": 14,
   "metadata": {},
   "outputs": [
    {
     "data": {
      "text/plain": [
       "(169.11714, -3.97544)"
      ]
     },
     "execution_count": 14,
     "metadata": {},
     "output_type": "execute_result"
    }
   ],
   "source": [
    "lcf.ra, lcf.dec"
   ]
  },
  {
   "cell_type": "code",
   "execution_count": 15,
   "metadata": {},
   "outputs": [
    {
     "name": "stderr",
     "output_type": "stream",
     "text": [
      "/Users/ch/miniconda3/lib/python3.6/site-packages/h5py/__init__.py:36: FutureWarning: Conversion of the second argument of issubdtype from `float` to `np.floating` is deprecated. In future, it will be treated as `np.float64 == np.dtype(float).type`.\n",
      "  from ._conv import register_converters as _register_converters\n"
     ]
    }
   ],
   "source": [
    "import threemultis"
   ]
  },
  {
   "cell_type": "code",
   "execution_count": 16,
   "metadata": {},
   "outputs": [],
   "source": [
    "import pickle\n",
    "samples = pickle.load(open('../../threemultis/results/K2-43_samples.p', 'rb'))\n",
    "\n",
    "lc= pickle.load(open('../../threemultis/results/K2-43.p', 'rb'))"
   ]
  },
  {
   "cell_type": "code",
   "execution_count": null,
   "metadata": {},
   "outputs": [],
   "source": [
    "import pandas as pd\n",
    "params = threemultis.utils.get_params('K2-43')\n",
    "letters= ['b', 'c', 'd']\n",
    "for planet, df in params.iterrows():\n",
    "    otherplanets = list(set(list(np.arange(len(params)))) - set([planet]))\n",
    "    mask = np.ones(len(lc.time), bool)\n",
    "    for op in otherplanets:\n",
    "        p1 = params.loc[op, 'Period']\n",
    "        t01 = params.loc[op, 'T0']\n",
    "        d1 = params.loc[op, 'Duration']\n",
    "        x_fold = (lc.time - t01 + 0.5*p1) % p1 - 0.5*p1\n",
    "        mask &= (np.abs(x_fold) > d1/2)\n",
    "\n",
    "    p = df['Period']\n",
    "    t0 = df['T0']\n",
    "    d = df['Duration']\n",
    "    x_fold = (lc.time - t0 + 0.5*p) % p - 0.5*p\n",
    "    f = lc[mask].fold(p, t0).bin(1)\n",
    "    k = np.abs(f.phase) < 0.1\n",
    "    f = f[k]\n",
    "    f.errorbar(label='Planet {} (Period: {:2.4f}d)'.format(planet + 1, p))\n",
    "\n",
    "    r = pd.DataFrame(columns=['phase', 'flux', 'flux_err'])\n",
    "    r['phase'] = f.phase * p\n",
    "    r['flux'] = f.flux\n",
    "    r['flux_err'] = f.flux_err\n",
    "    r.to_csv('{0}/k2-43{0}.csv'.format(letters[planet]), index=None, header=None)"
   ]
  },
  {
   "cell_type": "code",
   "execution_count": 8,
   "metadata": {},
   "outputs": [
    {
     "data": {
      "image/png": "[encoded data removed]",
      "text/plain": [
       "<Figure size 432x288 with 1 Axes>"
      ]
     },
     "metadata": {
      "image/png": {
       "height": 277,
       "width": 377
      }
     },
     "output_type": "display_data"
    }
   ],
   "source": [
    "from vespa.stars.contrastcurve import ContrastCurveFromFile\n",
    "cc = ContrastCurveFromFile('contrast_curve.txt', 'k')\n",
    "cc.plot()"
   ]
  },
  {
   "cell_type": "code",
   "execution_count": 7,
   "metadata": {},
   "outputs": [
    {
     "data": {
      "text/plain": [
       "array([[0.  , 0.07, 0.13, 0.19, 0.25, 0.32, 0.38, 0.44, 0.51, 0.57, 0.63,\n",
       "        0.69, 0.76, 0.82, 0.88, 0.95, 1.01, 1.07, 1.14, 1.2 , 1.26, 1.32,\n",
       "        1.39, 1.45, 1.51, 1.58, 1.64, 1.7 , 1.77, 1.83, 1.89, 1.96, 2.02,\n",
       "        2.08, 2.14, 2.21, 2.27, 2.33, 2.4 , 2.46, 2.52, 2.59, 2.65, 2.71,\n",
       "        2.77, 2.84, 2.9 , 2.96, 3.03, 3.09, 3.15, 3.22, 3.28, 3.34, 3.41,\n",
       "        3.47, 3.53, 3.59, 3.66],\n",
       "       [0.  , 2.67, 4.45, 5.35, 6.08, 6.73, 7.35, 7.84, 7.91, 8.1 , 8.37,\n",
       "        8.5 , 8.55, 8.58, 8.62, 8.62, 8.63, 8.63, 8.64, 8.66, 8.68, 8.65,\n",
       "        8.63, 8.63, 8.65, 8.63, 8.63, 8.59, 8.59, 8.6 , 8.61, 8.57, 8.56,\n",
       "        8.53, 8.51, 8.5 , 8.47, 8.48, 8.43, 8.44, 8.41, 8.44, 8.41, 8.34,\n",
       "        8.4 , 8.38, 8.34, 8.37, 8.33, 8.34, 8.33, 8.3 , 8.29, 8.26, 8.15,\n",
       "        8.18, 8.27, 8.23, 8.29]])"
      ]
     },
     "execution_count": 7,
     "metadata": {},
     "output_type": "execute_result"
    }
   ],
   "source": []
  },
  {
   "cell_type": "code",
   "execution_count": null,
   "metadata": {},
   "outputs": [],
   "source": []
  }
 ],
 "metadata": {
  "kernelspec": {
   "display_name": "Python 3",
   "language": "python",
   "name": "python3"
  },
  "language_info": {
   "codemirror_mode": {
    "name": "ipython",
    "version": 3
   },
   "file_extension": ".py",
   "mimetype": "text/x-python",
   "name": "python",
   "nbconvert_exporter": "python",
   "pygments_lexer": "ipython3",
   "version": "3.6.7"
  }
 },
 "nbformat": 4,
 "nbformat_minor": 2
}
