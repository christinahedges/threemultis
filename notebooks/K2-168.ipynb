{
 "cells": [
  {
   "cell_type": "code",
   "execution_count": null,
   "metadata": {},
   "outputs": [],
   "source": [
    "% load_ext autoreload\n",
    "% autoreload 2"
   ]
  },
  {
   "cell_type": "code",
   "execution_count": null,
   "metadata": {},
   "outputs": [],
   "source": [
    "import numpy as np\n",
    "import lightkurve as lk\n",
    "import threemultis"
   ]
  },
  {
   "cell_type": "code",
   "execution_count": null,
   "metadata": {},
   "outputs": [],
   "source": [
    "tpf = lk.search_targetpixelfile('K2-168').download()\n",
    "tpf = tpf[np.in1d(tpf.time, tpf.to_lightcurve(aperture_mask='all').remove_nans().time)]\n",
    "tpf = tpf[tpf.to_lightcurve().normalize().flux > 0.8]\n",
    "mask = threemultis.utils.planet_mask(tpf.time, 'K2-168')"
   ]
  },
  {
   "cell_type": "code",
   "execution_count": null,
   "metadata": {},
   "outputs": [],
   "source": [
    "aper = np.nanmedian(tpf.flux, axis=0) > 30"
   ]
  },
  {
   "cell_type": "code",
   "execution_count": null,
   "metadata": {},
   "outputs": [],
   "source": [
    "# First pass, remove some very bad outliers\n",
    "bad = np.zeros(len(tpf.time), bool)\n",
    "for count in range(2):\n",
    "    pld_lc = tpf[~bad].to_corrector('pld').correct(aperture_mask=aper, cadence_mask=mask[~bad])\n",
    "    pld_lc = pld_lc.flatten(31, mask=~mask[~bad])\n",
    "    bad |= np.in1d(tpf.time, pld_lc.time[np.abs(pld_lc.flux - 1) > 5 * np.std(pld_lc.flux - 1)])\n",
    "    \n",
    "tpf = tpf[~bad]\n",
    "mask = mask[~bad]"
   ]
  },
  {
   "cell_type": "code",
   "execution_count": null,
   "metadata": {},
   "outputs": [],
   "source": [
    "tpf.plot(scale='log', aperture_mask=aper)"
   ]
  },
  {
   "cell_type": "code",
   "execution_count": null,
   "metadata": {},
   "outputs": [],
   "source": [
    "params = threemultis.utils.get_params('K2-168')"
   ]
  },
  {
   "cell_type": "code",
   "execution_count": null,
   "metadata": {
    "scrolled": false
   },
   "outputs": [],
   "source": [
    "clc = threemultis.jointfit.joint_fit(tpf, period_value=list(params['Period']),\n",
    "                                            t0_value=list(params['T0']), depth_value=list(params['Depth']),\n",
    "                                            duration_value=list(params['T0']),\n",
    "                                            R_star=(params.loc[0, 'R_star'], params.loc[0, 'R_star_error']),\n",
    "                                            M_star=(params.loc[0, 'M_star'], params.loc[0, 'M_star_error']),\n",
    "                                            T_star=(params.loc[0, 'T_star'], params.loc[0, 'T_star_error']),\n",
    "                                           aperture=aper, return_quick_corrected=True, trim=2)"
   ]
  },
  {
   "cell_type": "code",
   "execution_count": null,
   "metadata": {},
   "outputs": [],
   "source": [
    "clc.plot()"
   ]
  },
  {
   "cell_type": "code",
   "execution_count": null,
   "metadata": {},
   "outputs": [],
   "source": [
    "threemultis.utils.planet_plot(clc, 'K2-168');"
   ]
  },
  {
   "cell_type": "code",
   "execution_count": null,
   "metadata": {},
   "outputs": [],
   "source": []
  }
 ],
 "metadata": {
  "kernelspec": {
   "display_name": "Python 3",
   "language": "python",
   "name": "python3"
  },
  "language_info": {
   "codemirror_mode": {
    "name": "ipython",
    "version": 3
   },
   "file_extension": ".py",
   "mimetype": "text/x-python",
   "name": "python",
   "nbconvert_exporter": "python",
   "pygments_lexer": "ipython3",
   "version": "3.6.7"
  }
 },
 "nbformat": 4,
 "nbformat_minor": 2
}
