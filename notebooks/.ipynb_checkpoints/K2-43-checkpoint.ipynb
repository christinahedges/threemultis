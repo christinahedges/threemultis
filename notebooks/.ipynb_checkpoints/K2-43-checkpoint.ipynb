{
 "cells": [
  {
   "cell_type": "code",
   "execution_count": null,
   "metadata": {},
   "outputs": [],
   "source": [
    "% load_ext autoreload\n",
    "% autoreload 2"
   ]
  },
  {
   "cell_type": "code",
   "execution_count": 1,
   "metadata": {},
   "outputs": [
    {
     "name": "stderr",
     "output_type": "stream",
     "text": [
      "/Users/ch/miniconda3/lib/python3.6/site-packages/h5py/__init__.py:36: FutureWarning: Conversion of the second argument of issubdtype from `float` to `np.floating` is deprecated. In future, it will be treated as `np.float64 == np.dtype(float).type`.\n",
      "  from ._conv import register_converters as _register_converters\n"
     ]
    }
   ],
   "source": [
    "import numpy as np\n",
    "import lightkurve as lk\n",
    "import threemultis\n",
    "import matplotlib.pyplot as plt\n",
    "from copy import deepcopy\n",
    "from astropy.io import fits\n",
    "import os"
   ]
  },
  {
   "cell_type": "code",
   "execution_count": null,
   "metadata": {},
   "outputs": [],
   "source": [
    "raw_tpf = lk.search_targetpixelfile('K2-43', mission='K2').download()\n",
    "hdu = deepcopy(raw_tpf.hdu)\n",
    "for name in hdu[1].columns.names:\n",
    "    if (len(hdu[1].data[name].shape) == 3):\n",
    "        hdu[1].data[name][:, :, :4] = np.nan\n",
    "fits.HDUList(hdus=list(hdu)).writeto('hack.fits', overwrite=True)\n",
    "tpf = lk.KeplerTargetPixelFile('hack.fits', quality_bitmask=raw_tpf.quality_bitmask)\n",
    "os.remove('hack.fits')"
   ]
  },
  {
   "cell_type": "code",
   "execution_count": null,
   "metadata": {},
   "outputs": [],
   "source": [
    "tpf.plot(frame=1000, scale='log')"
   ]
  },
  {
   "cell_type": "code",
   "execution_count": null,
   "metadata": {},
   "outputs": [],
   "source": [
    "tpf = tpf[10:]\n",
    "tpf = tpf[np.in1d(tpf.time, tpf.to_lightcurve(aperture_mask='all').remove_nans().time)]\n",
    "tpf = tpf[tpf.to_lightcurve().normalize().flux > 0.8]\n",
    "\n",
    "\n",
    "mask = threemultis.utils.planet_mask(tpf.time, 'K2-43')\n",
    "aper = np.nan_to_num(np.nanpercentile(tpf.flux, 95, axis=(0))) > 50"
   ]
  },
  {
   "cell_type": "code",
   "execution_count": null,
   "metadata": {},
   "outputs": [],
   "source": [
    "# First pass, remove some very bad outliers\n",
    "bad = np.zeros(len(tpf.time), bool)\n",
    "for count in range(2):\n",
    "    pld_lc = tpf[~bad].to_corrector('pld').correct(aperture_mask=aper, cadence_mask=mask[~bad])\n",
    "    pld_lc = pld_lc.flatten(31, mask=~mask[~bad])\n",
    "    bad |= np.in1d(tpf.time, pld_lc.time[np.abs(pld_lc.flux - 1) > 5 * np.std(pld_lc.flux - 1)])\n",
    "    \n",
    "tpf = tpf[~bad]\n",
    "mask = mask[~bad]"
   ]
  },
  {
   "cell_type": "code",
   "execution_count": null,
   "metadata": {},
   "outputs": [],
   "source": [
    "tpf.plot(aperture_mask=aper)"
   ]
  },
  {
   "cell_type": "code",
   "execution_count": null,
   "metadata": {
    "scrolled": false
   },
   "outputs": [],
   "source": [
    "clc = threemultis.fit.PLD(tpf, planet_mask=mask, trim=1, aperture=aper, return_quick_corrected=True, logrho_mu=np.log(30))"
   ]
  },
  {
   "cell_type": "code",
   "execution_count": null,
   "metadata": {},
   "outputs": [],
   "source": [
    "threemultis.utils.planet_plot(clc, 'K2-43', nbin=5);"
   ]
  },
  {
   "cell_type": "code",
   "execution_count": null,
   "metadata": {},
   "outputs": [],
   "source": [
    "params = threemultis.utils.get_params('K2-43')\n",
    "mask = np.ones(len(clc.time), bool)\n",
    "for planet, df in params[0:1].iterrows():\n",
    "    p = df['Period']\n",
    "    t0 = df['T0']\n",
    "    d = df['Duration']\n",
    "    x_fold = (clc.time - t0 + 0.5*p) % p - 0.5*p\n",
    "    mask &= (np.abs(x_fold) > d/2)"
   ]
  },
  {
   "cell_type": "code",
   "execution_count": null,
   "metadata": {},
   "outputs": [],
   "source": [
    "clc[mask].interact_bls('http://localhost:8815')"
   ]
  },
  {
   "cell_type": "code",
   "execution_count": null,
   "metadata": {},
   "outputs": [],
   "source": []
  }
 ],
 "metadata": {
  "kernelspec": {
   "display_name": "Python 3",
   "language": "python",
   "name": "python3"
  },
  "language_info": {
   "codemirror_mode": {
    "name": "ipython",
    "version": 3
   },
   "file_extension": ".py",
   "mimetype": "text/x-python",
   "name": "python",
   "nbconvert_exporter": "python",
   "pygments_lexer": "ipython3",
   "version": "3.6.7"
  }
 },
 "nbformat": 4,
 "nbformat_minor": 2
}
