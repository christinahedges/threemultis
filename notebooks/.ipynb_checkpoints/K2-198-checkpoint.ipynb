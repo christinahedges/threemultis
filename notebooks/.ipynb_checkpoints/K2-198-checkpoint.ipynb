{
 "cells": [
  {
   "cell_type": "code",
   "execution_count": 1,
   "metadata": {},
   "outputs": [],
   "source": [
    "% load_ext autoreload\n",
    "% autoreload 2"
   ]
  },
  {
   "cell_type": "code",
   "execution_count": 2,
   "metadata": {},
   "outputs": [
    {
     "name": "stderr",
     "output_type": "stream",
     "text": [
      "/Users/ch/miniconda3/lib/python3.6/site-packages/h5py/__init__.py:36: FutureWarning: Conversion of the second argument of issubdtype from `float` to `np.floating` is deprecated. In future, it will be treated as `np.float64 == np.dtype(float).type`.\n",
      "  from ._conv import register_converters as _register_converters\n"
     ]
    }
   ],
   "source": [
    "import numpy as np\n",
    "import lightkurve as lk\n",
    "import threemultis\n",
    "import matplotlib.pyplot as plt\n",
    "from astropy.modeling import models, fitting"
   ]
  },
  {
   "cell_type": "code",
   "execution_count": 3,
   "metadata": {},
   "outputs": [],
   "source": [
    "tpfs = lk.search_targetpixelfile('K2-198').download_all()"
   ]
  },
  {
   "cell_type": "code",
   "execution_count": null,
   "metadata": {
    "scrolled": false
   },
   "outputs": [
    {
     "name": "stderr",
     "output_type": "stream",
     "text": [
      "Sampling 4 chains: 100%|██████████| 308/308 [01:02<00:00,  3.96draws/s]\n",
      "Sampling 4 chains: 100%|██████████| 108/108 [00:39<00:00,  1.24draws/s]\n",
      "Sampling 4 chains: 100%|██████████| 208/208 [00:14<00:00,  8.94draws/s]\n",
      "Sampling 4 chains: 100%|██████████| 408/408 [00:29<00:00, 13.91draws/s]\n",
      "Sampling 4 chains: 100%|██████████| 808/808 [00:48<00:00, 16.49draws/s]\n",
      "Sampling 4 chains: 100%|██████████| 3008/3008 [02:58<00:00,  9.20draws/s]\n",
      "Sampling 4 chains: 100%|██████████| 208/208 [00:16<00:00,  8.92draws/s]\n",
      "Multiprocess sampling (4 chains in 4 jobs)\n",
      "NUTS: [logrho, logsigma, logs2]\n",
      "Sampling 4 chains:  14%|█▍        | 2203/16000 [01:44<08:20, 27.57draws/s]"
     ]
    }
   ],
   "source": [
    "clcs = []     # Corrected Light Curves\n",
    "for tpf in tpfs:\n",
    "    tpf = tpf[10:]\n",
    "    tpf = tpf[np.in1d(tpf.time, tpf.to_lightcurve(aperture_mask='all').remove_nans().time)]\n",
    "    tpf = tpf[tpf.to_lightcurve().normalize().flux > 0.8]\n",
    "    \n",
    "    \n",
    "    mask = threemultis.utils.planet_mask(tpf.time, 'K2-198')\n",
    "    clc = threemultis.fit.PLD(tpf, planet_mask=mask, trim=2, ndraws=1000)\n",
    "    clcs.append(clc)"
   ]
  },
  {
   "cell_type": "code",
   "execution_count": null,
   "metadata": {},
   "outputs": [],
   "source": [
    "clc = clcs[0].append(clcs[1])"
   ]
  },
  {
   "cell_type": "code",
   "execution_count": null,
   "metadata": {},
   "outputs": [],
   "source": [
    "params = threemultis.utils.get_params('K2-198')\n",
    "threemultis.utils.planet_plot(clc, 'K2-198', nbin=5);"
   ]
  },
  {
   "cell_type": "code",
   "execution_count": null,
   "metadata": {
    "scrolled": false
   },
   "outputs": [],
   "source": [
    "trace, mask = threemultis.fit.fit_planets(clc, period_value=list(params['Period']),\n",
    "                                            t0_value=list(params['T0']), depth_value=list(params['Depth']),\n",
    "                                            R_star=(params.loc[0, 'R_star'], params.loc[0, 'R_star_error']),\n",
    "                                            M_star=(params.loc[0, 'M_star'], params.loc[0, 'M_star_error']),\n",
    "                                            T_star=(params.loc[0, 'T_star'], params.loc[0, 'T_star_error']), ndraws=2000)"
   ]
  },
  {
   "cell_type": "code",
   "execution_count": null,
   "metadata": {},
   "outputs": [],
   "source": [
    "import pymc3 as pm\n",
    "import corner\n",
    "import astropy.units as u\n",
    "varnames = varnames=[\"r_pl\", \"b\", \"t0\", \"logP\", \"r_star\", \"m_star\", \"u_star\", \"mean\"]\n",
    "samples = pm.trace_to_dataframe(trace, varnames=varnames)\n",
    "\n",
    "# Convert the radius to Earth radii\n",
    "samples[\"r_pl__0\"] = (np.array(samples[\"r_pl__0\"]) * u.R_sun).to(u.R_earth).value\n",
    "samples[\"r_pl__1\"] = (np.array(samples[\"r_pl__1\"]) * u.R_sun).to(u.R_earth).value\n",
    "\n",
    "\n",
    "corner.corner(samples);"
   ]
  },
  {
   "cell_type": "code",
   "execution_count": null,
   "metadata": {},
   "outputs": [],
   "source": [
    "fig = threemultis.utils.plot_folded_transits(clc, trace, mask, 'K2-198');\n",
    "fig.savefig('figures/K2-198.png', dpi=150, bbox_inches='tight')"
   ]
  },
  {
   "cell_type": "code",
   "execution_count": null,
   "metadata": {},
   "outputs": [],
   "source": [
    "print(threemultis.utils.latex_trace(trace, 'K2-198'))"
   ]
  },
  {
   "cell_type": "code",
   "execution_count": null,
   "metadata": {},
   "outputs": [],
   "source": []
  }
 ],
 "metadata": {
  "kernelspec": {
   "display_name": "Python 3",
   "language": "python",
   "name": "python3"
  },
  "language_info": {
   "codemirror_mode": {
    "name": "ipython",
    "version": 3
   },
   "file_extension": ".py",
   "mimetype": "text/x-python",
   "name": "python",
   "nbconvert_exporter": "python",
   "pygments_lexer": "ipython3",
   "version": "3.6.7"
  }
 },
 "nbformat": 4,
 "nbformat_minor": 2
}
